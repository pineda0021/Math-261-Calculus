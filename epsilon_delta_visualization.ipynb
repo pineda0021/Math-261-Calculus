{
  "nbformat": 4,
  "nbformat_minor": 0,
  "metadata": {
    "colab": {
      "provenance": []
    },
    "kernelspec": {
      "name": "python3",
      "display_name": "Python 3"
    },
    "language_info": {
      "name": "python"
    }
  },
  "cells": [
    {
      "cell_type": "code",
      "execution_count": null,
      "metadata": {
        "id": "Ai_R165Xs2pl"
      },
      "outputs": [],
      "source": [
        "# epsilon_delta_visualization.ipynb\n",
        "\n",
        "import numpy as np\n",
        "import matplotlib.pyplot as plt\n",
        "from ipywidgets import interact, FloatSlider\n",
        "\n",
        "# Example function\n",
        "def f(x):\n",
        "    return x**2\n",
        "\n",
        "a = 2\n",
        "L = f(a)\n",
        "\n",
        "def visualize_epsilon_delta(epsilon=0.5, delta=0.5):\n",
        "    x = np.linspace(a - 2, a + 2, 1000)\n",
        "    y = f(x)\n",
        "\n",
        "    fig, ax = plt.subplots(figsize=(8, 5))\n",
        "\n",
        "    ax.plot(x, y, label=r'$f(x) = x^2$')\n",
        "    ax.axvline(a, color='black', linestyle='--', label=r'$x = a$')\n",
        "    ax.axhline(L, color='green', linestyle='--', label=r'$L = \\lim_{x \\to a} f(x)$')\n",
        "\n",
        "    # Epsilon band\n",
        "    ax.axhline(L + epsilon, color='red', linestyle='--', label=r'$\\varepsilon$ band')\n",
        "    ax.axhline(L - epsilon, color='red', linestyle='--')\n",
        "\n",
        "    # Delta band\n",
        "    ax.axvline(a + delta, color='blue', linestyle='--', label=r'$\\delta$ band')\n",
        "    ax.axvline(a - delta, color='blue', linestyle='--')\n",
        "\n",
        "    # Valid points\n",
        "    x_valid = x[(np.abs(x - a) < delta) & (x != a)]\n",
        "    y_valid = f(x_valid)\n",
        "    ax.plot(x_valid, y_valid, 'o', color='purple', label=r'$|f(x) - L| < \\varepsilon$')\n",
        "\n",
        "    ax.set_title(r'$\\varepsilon$-$\\delta$ Visualization for $f(x) = x^2$ as $x \\to 2$')\n",
        "    ax.set_xlabel('x')\n",
        "    ax.set_ylabel('f(x)')\n",
        "    ax.legend()\n",
        "    ax.grid(True)\n",
        "    plt.show()\n",
        "\n",
        "interact(\n",
        "    visualize_epsilon_delta,\n",
        "    epsilon=FloatSlider(value=0.5, min=0.01, max=2, step=0.01, description='ε'),\n",
        "    delta=FloatSlider(value=0.5, min=0.01, max=2, step=0.01, description='δ')\n",
        ")\n"
      ]
    }
  ]
}